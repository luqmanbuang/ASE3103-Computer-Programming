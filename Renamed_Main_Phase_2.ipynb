{
  "nbformat": 4,
  "nbformat_minor": 0,
  "metadata": {
    "colab": {
      "name": "Renamed Main_Phase 2.ipynb",
      "provenance": [],
      "collapsed_sections": [],
      "authorship_tag": "ABX9TyNyTFZvvDr1OF/rze0PoccD",
      "include_colab_link": true
    },
    "kernelspec": {
      "name": "python3",
      "display_name": "Python 3"
    }
  },
  "cells": [
    {
      "cell_type": "markdown",
      "metadata": {
        "id": "view-in-github",
        "colab_type": "text"
      },
      "source": [
        "<a href=\"https://colab.research.google.com/github/luqmanbuang/ASE3103-Computer-Programming/blob/main/Renamed_Main_Phase_2.ipynb\" target=\"_parent\"><img src=\"https://colab.research.google.com/assets/colab-badge.svg\" alt=\"Open In Colab\"/></a>"
      ]
    },
    {
      "cell_type": "code",
      "metadata": {
        "id": "h0g8odVvjNyy",
        "outputId": "985127b3-c5b0-4db4-feb6-fd7be98866e5",
        "colab": {
          "base_uri": "https://localhost:8080/",
          "height": 53
        }
      },
      "source": [
        "from google.colab import drive\n",
        "drive.mount(\"/content/gdrive\")"
      ],
      "execution_count": 1,
      "outputs": [
        {
          "output_type": "stream",
          "text": [
            "Drive already mounted at /content/gdrive; to attempt to forcibly remount, call drive.mount(\"/content/gdrive\", force_remount=True).\n"
          ],
          "name": "stdout"
        }
      ]
    },
    {
      "cell_type": "code",
      "metadata": {
        "id": "Z9ccylSqqrf6"
      },
      "source": [
        "import warnings \n",
        "warnings.filterwarnings('ignore')"
      ],
      "execution_count": 2,
      "outputs": []
    },
    {
      "cell_type": "code",
      "metadata": {
        "id": "hLmKeK4fjGas"
      },
      "source": [
        "import matplotlib.pyplot as plt\n",
        "import pandas as pd\n",
        "\n",
        "#Importing test dataset\n",
        "df_test_FD001 = pd.read_csv('/content/gdrive/My Drive/Capstone/test_FD001.txt', sep=' ', header=None)\n",
        "df_train_FD001 = pd.read_csv('/content/gdrive/My Drive/Capstone/train_FD001.txt', sep=' ', header=None)\n",
        "\n",
        "\n",
        "# dropping NAN values\n",
        "df_test_FD001 = df_test_FD001.dropna(axis=1, how='all')\n",
        "df_train_FD001 = df_train_FD001.dropna(axis=1, how='all')\n",
        "\n",
        "# Naming the columns\n",
        "df_test_FD001.columns = [\"unit\", \"cycles\", \"Op1\",\n",
        "                      \"Op2\", \"Op3\", \"S1\", \"S2\",\n",
        "                      \"S3\", \"S4\", \"S5\", \"S6\", \"S7\", \"S8\", \"S9\", \"S10\", \"S11\",\n",
        "                      \"S12\", \"S13\", \"S14\", \"S15\", \"S16\", \"S17\", \"S18\", \"S19\", \"S20\", \"S21\"]\n",
        "\n",
        "df_train_FD001.columns = [\"unit\", \"cycles\", \"Op1\",\n",
        "                      \"Op2\", \"Op3\", \"S1\", \"S2\",\n",
        "                      \"S3\", \"S4\", \"S5\", \"S6\", \"S7\", \"S8\", \"S9\", \"S10\", \"S11\",\n",
        "                      \"S12\", \"S13\", \"S14\", \"S15\", \"S16\", \"S17\", \"S18\", \"S19\", \"S20\", \"S21\"]\n",
        "\n",
        "# data preprocessing; removing unnecessary data\n",
        "df_test_FD001.drop(['Op3','S1', 'S5', 'S6', 'S16', 'S10', 'S18', 'S19'], axis=1, inplace=True)\n",
        "df_train_FD001.drop(['Op3','S1', 'S5', 'S6', 'S16', 'S10', 'S18', 'S19'], axis=1, inplace=True)\n",
        "\n",
        "df_test_FD001['unit'] += 100\n"
      ],
      "execution_count": 3,
      "outputs": []
    },
    {
      "cell_type": "code",
      "metadata": {
        "id": "LZnCAYpmv82J"
      },
      "source": [
        "df_combined = pd.concat([df_train_FD001, df_test_FD001]) #combine the two datasets\n",
        "\n",
        "from sklearn.preprocessing import MinMaxScaler\n",
        "# MinMaxScaler\n",
        "scaler = MinMaxScaler()\n",
        "df_combined.iloc[:,2:18] = scaler.fit_transform(df_combined.iloc[:,2:18])"
      ],
      "execution_count": 4,
      "outputs": []
    },
    {
      "cell_type": "code",
      "metadata": {
        "id": "M1sIeH4m4sFG"
      },
      "source": [
        "#split them again\n",
        "df_train_FD001 = df_combined[(df_combined.unit <= 100)]\n",
        "df_test_FD001 = df_combined[(df_combined.unit >= 101)]\n",
        "\n",
        "df_test_FD001['unit'] -= 100"
      ],
      "execution_count": 5,
      "outputs": []
    },
    {
      "cell_type": "code",
      "metadata": {
        "id": "8AaJ_So2GG-G"
      },
      "source": [
        "# finding the max cycles of a unit which is used to find the Remaining Useful Life (RUL)\n",
        "\n",
        "df_train_FD001 = pd.merge(df_train_FD001, df_train_FD001.groupby('unit', as_index=False)['cycles'].max(), how='left', on='unit')\n",
        "df_train_FD001.rename(columns={\"cycles_x\": \"cycles\", \"cycles_y\": \"Total Cycles\"}, inplace=True)\n",
        "\n",
        "df_train_FD001['RUL'] = df_train_FD001['Total Cycles'] - df_train_FD001['cycles']\n",
        "\n",
        "# defining the Health Index, where value of 1 denotes healthy engine and 0 denotes failure\n",
        "def fractionTTF(dat,q):\n",
        "    return(dat.RUL[q]-dat.RUL.min()) / (dat.RUL.max()-dat.RUL.min())\n",
        "\n",
        "fTTFz = []\n",
        "fTTF = []\n",
        "\n",
        "for i in range(df_train_FD001['unit'].min(),df_train_FD001['unit'].max()+1):\n",
        "    dat=df_train_FD001[df_train_FD001.unit==i]\n",
        "    dat = dat.reset_index(drop=True)\n",
        "    for q in range(len(dat)):\n",
        "        fTTFz = fractionTTF(dat, q)\n",
        "        fTTF.append(fTTFz)\n",
        "\n",
        "df_train_FD001['Health Index'] = fTTF\n"
      ],
      "execution_count": 6,
      "outputs": []
    },
    {
      "cell_type": "code",
      "metadata": {
        "id": "IeYJ9C9I_YVC"
      },
      "source": [
        "# train set\n",
        "X_test = df_test_FD001[['cycles', 'Op1', 'Op2', 'S2', 'S3', 'S4', 'S7', 'S8', 'S9', 'S11', 'S12',\n",
        "          'S13', 'S14', 'S15', 'S17', 'S20', 'S21']].values\n",
        "\n",
        "# test set\n",
        "X_train = df_train_FD001[['cycles', 'Op1', 'Op2', 'S2', 'S3', 'S4', 'S7', 'S8', 'S9', 'S11', 'S12',\n",
        "          'S13', 'S14', 'S15', 'S17', 'S20', 'S21']].values\n",
        "y_train = df_train_FD001[['Health Index']].values.ravel()"
      ],
      "execution_count": 7,
      "outputs": []
    },
    {
      "cell_type": "code",
      "metadata": {
        "id": "q3fyiFRb-4ik",
        "outputId": "224a9765-aeaf-4845-bf89-2a07d985956f",
        "colab": {
          "base_uri": "https://localhost:8080/",
          "height": 1000
        }
      },
      "source": [
        "from keras.models import Sequential\n",
        "from keras.layers.core import Dense, Activation\n",
        "from keras.wrappers.scikit_learn import KerasRegressor\n",
        "\n",
        "model = Sequential()\n",
        "model.add(Dense(50, input_dim=17, kernel_initializer='normal', activation='relu'))\n",
        "model.add(Dense(1, kernel_initializer='normal'))\n",
        "model.compile(loss='mean_squared_error', optimizer='adam')\n",
        "\n",
        "model.fit(X_train, y_train, epochs = 50)"
      ],
      "execution_count": 8,
      "outputs": [
        {
          "output_type": "stream",
          "text": [
            "Epoch 1/50\n",
            "645/645 [==============================] - 0s 623us/step - loss: 0.1153\n",
            "Epoch 2/50\n",
            "645/645 [==============================] - 0s 602us/step - loss: 0.0065\n",
            "Epoch 3/50\n",
            "645/645 [==============================] - 0s 588us/step - loss: 0.0060\n",
            "Epoch 4/50\n",
            "645/645 [==============================] - 0s 590us/step - loss: 0.0060\n",
            "Epoch 5/50\n",
            "645/645 [==============================] - 0s 584us/step - loss: 0.0059\n",
            "Epoch 6/50\n",
            "645/645 [==============================] - 0s 587us/step - loss: 0.0056\n",
            "Epoch 7/50\n",
            "645/645 [==============================] - 0s 594us/step - loss: 0.0056\n",
            "Epoch 8/50\n",
            "645/645 [==============================] - 0s 591us/step - loss: 0.0059\n",
            "Epoch 9/50\n",
            "645/645 [==============================] - 0s 583us/step - loss: 0.0060\n",
            "Epoch 10/50\n",
            "645/645 [==============================] - 0s 600us/step - loss: 0.0054\n",
            "Epoch 11/50\n",
            "645/645 [==============================] - 0s 587us/step - loss: 0.0053\n",
            "Epoch 12/50\n",
            "645/645 [==============================] - 0s 607us/step - loss: 0.0054\n",
            "Epoch 13/50\n",
            "645/645 [==============================] - 0s 592us/step - loss: 0.0053\n",
            "Epoch 14/50\n",
            "645/645 [==============================] - 0s 587us/step - loss: 0.0051\n",
            "Epoch 15/50\n",
            "645/645 [==============================] - 0s 599us/step - loss: 0.0053\n",
            "Epoch 16/50\n",
            "645/645 [==============================] - 0s 580us/step - loss: 0.0048\n",
            "Epoch 17/50\n",
            "645/645 [==============================] - 0s 574us/step - loss: 0.0048\n",
            "Epoch 18/50\n",
            "645/645 [==============================] - 0s 603us/step - loss: 0.0047\n",
            "Epoch 19/50\n",
            "645/645 [==============================] - 0s 607us/step - loss: 0.0047\n",
            "Epoch 20/50\n",
            "645/645 [==============================] - 0s 601us/step - loss: 0.0045\n",
            "Epoch 21/50\n",
            "645/645 [==============================] - 0s 597us/step - loss: 0.0046\n",
            "Epoch 22/50\n",
            "645/645 [==============================] - 0s 586us/step - loss: 0.0044\n",
            "Epoch 23/50\n",
            "645/645 [==============================] - 0s 604us/step - loss: 0.0045\n",
            "Epoch 24/50\n",
            "645/645 [==============================] - 0s 598us/step - loss: 0.0045\n",
            "Epoch 25/50\n",
            "645/645 [==============================] - 0s 591us/step - loss: 0.0046\n",
            "Epoch 26/50\n",
            "645/645 [==============================] - 0s 601us/step - loss: 0.0045\n",
            "Epoch 27/50\n",
            "645/645 [==============================] - 0s 583us/step - loss: 0.0044\n",
            "Epoch 28/50\n",
            "645/645 [==============================] - 0s 610us/step - loss: 0.0043\n",
            "Epoch 29/50\n",
            "645/645 [==============================] - 0s 582us/step - loss: 0.0043\n",
            "Epoch 30/50\n",
            "645/645 [==============================] - 0s 597us/step - loss: 0.0043\n",
            "Epoch 31/50\n",
            "645/645 [==============================] - 0s 597us/step - loss: 0.0043\n",
            "Epoch 32/50\n",
            "645/645 [==============================] - 0s 594us/step - loss: 0.0041\n",
            "Epoch 33/50\n",
            "645/645 [==============================] - 0s 599us/step - loss: 0.0042\n",
            "Epoch 34/50\n",
            "645/645 [==============================] - 0s 614us/step - loss: 0.0042\n",
            "Epoch 35/50\n",
            "645/645 [==============================] - 0s 590us/step - loss: 0.0041\n",
            "Epoch 36/50\n",
            "645/645 [==============================] - 0s 603us/step - loss: 0.0042\n",
            "Epoch 37/50\n",
            "645/645 [==============================] - 0s 598us/step - loss: 0.0042\n",
            "Epoch 38/50\n",
            "645/645 [==============================] - 0s 594us/step - loss: 0.0041\n",
            "Epoch 39/50\n",
            "645/645 [==============================] - 0s 599us/step - loss: 0.0040\n",
            "Epoch 40/50\n",
            "645/645 [==============================] - 0s 595us/step - loss: 0.0042\n",
            "Epoch 41/50\n",
            "645/645 [==============================] - 0s 607us/step - loss: 0.0042\n",
            "Epoch 42/50\n",
            "645/645 [==============================] - 0s 598us/step - loss: 0.0041\n",
            "Epoch 43/50\n",
            "645/645 [==============================] - 0s 583us/step - loss: 0.0041\n",
            "Epoch 44/50\n",
            "645/645 [==============================] - 0s 601us/step - loss: 0.0041\n",
            "Epoch 45/50\n",
            "645/645 [==============================] - 0s 581us/step - loss: 0.0040\n",
            "Epoch 46/50\n",
            "645/645 [==============================] - 0s 635us/step - loss: 0.0040\n",
            "Epoch 47/50\n",
            "645/645 [==============================] - 0s 591us/step - loss: 0.0040\n",
            "Epoch 48/50\n",
            "645/645 [==============================] - 0s 586us/step - loss: 0.0041\n",
            "Epoch 49/50\n",
            "645/645 [==============================] - 0s 602us/step - loss: 0.0041\n",
            "Epoch 50/50\n",
            "645/645 [==============================] - 0s 593us/step - loss: 0.0040\n"
          ],
          "name": "stdout"
        },
        {
          "output_type": "execute_result",
          "data": {
            "text/plain": [
              "<tensorflow.python.keras.callbacks.History at 0x7fcd1898df28>"
            ]
          },
          "metadata": {
            "tags": []
          },
          "execution_count": 8
        }
      ]
    },
    {
      "cell_type": "code",
      "metadata": {
        "id": "UgD3Oxr9B9MW"
      },
      "source": [
        "score = model.predict(X_test) \n",
        "df_test_FD001['Predicted H.I.'] = score\n",
        "\n",
        "# df_test_FD001"
      ],
      "execution_count": 9,
      "outputs": []
    },
    {
      "cell_type": "code",
      "metadata": {
        "id": "v4_JOTqFCKNx"
      },
      "source": [
        "def totcycles(data):\n",
        "    return(data['cycles'] / (1-data['Predicted H.I.']))\n",
        "    \n",
        "df_test_FD001['MaxPredCycles'] = totcycles(df_test_FD001)\n",
        "\n",
        "# df_test_FD001"
      ],
      "execution_count": 10,
      "outputs": []
    },
    {
      "cell_type": "code",
      "metadata": {
        "id": "cLE1XDDaEh69",
        "outputId": "5c7bf8f0-0d0a-4e8a-945b-03cf51f318c4",
        "colab": {
          "base_uri": "https://localhost:8080/",
          "height": 372
        }
      },
      "source": [
        "plt.figure(figsize = (16, 8)) \n",
        "plt.plot(df_test_FD001.MaxPredCycles[(df_test_FD001['cycles'] >0) & (df_test_FD001['unit']==80)])\n"
      ],
      "execution_count": 11,
      "outputs": [
        {
          "output_type": "execute_result",
          "data": {
            "text/plain": [
              "[<matplotlib.lines.Line2D at 0x7fcd15a7f1d0>]"
            ]
          },
          "metadata": {
            "tags": []
          },
          "execution_count": 11
        },
        {
          "output_type": "display_data",
          "data": {
            "image/png": "[encoded data removed]",
            "text/plain": [
              "<Figure size 1152x576 with 1 Axes>"
            ]
          },
          "metadata": {
            "tags": [],
            "needs_background": "light"
          }
        }
      ]
    },
    {
      "cell_type": "code",
      "metadata": {
        "id": "LxVtW-M1JRlQ",
        "outputId": "a950d5dd-3ff0-40e0-e75f-4d5d87b446c1",
        "colab": {
          "base_uri": "https://localhost:8080/",
          "height": 33
        }
      },
      "source": [
        "df_test_FD001.MaxPredCycles[(df_test_FD001['cycles'] >10) & (df_test_FD001['unit']==80)].mean()"
      ],
      "execution_count": 12,
      "outputs": [
        {
          "output_type": "execute_result",
          "data": {
            "text/plain": [
              "187.04908752441406"
            ]
          },
          "metadata": {
            "tags": []
          },
          "execution_count": 12
        }
      ]
    },
    {
      "cell_type": "code",
      "metadata": {
        "id": "auYt6QwjLC9e"
      },
      "source": [
        "for i in range(df_test_FD001['unit'].min(),df_test_FD001['unit'].max()+1):\n",
        "   df_test_FD001.MaxPredCycles[(df_test_FD001['unit'] == i)] = df_test_FD001.MaxPredCycles[(df_test_FD001['cycles'] >10) & (df_test_FD001['unit']==i)].mean()"
      ],
      "execution_count": 13,
      "outputs": []
    },
    {
      "cell_type": "code",
      "metadata": {
        "id": "WdXlRrfzETCn"
      },
      "source": [
        "df_test_FD001['Pred_RUL'] = df_test_FD001.MaxPredCycles * (df_test_FD001['Predicted H.I.'])\n",
        "\n",
        "# df_test_FD001"
      ],
      "execution_count": 14,
      "outputs": []
    },
    {
      "cell_type": "code",
      "metadata": {
        "id": "LAzAQ-jXNwrA",
        "outputId": "6c7a0618-6043-4b34-87e1-7d080a8c1ff4",
        "colab": {
          "base_uri": "https://localhost:8080/",
          "height": 500
        }
      },
      "source": [
        "plt.figure(figsize = (16, 8)) \n",
        "plt.plot(df_test_FD001.Pred_RUL)"
      ],
      "execution_count": 15,
      "outputs": [
        {
          "output_type": "execute_result",
          "data": {
            "text/plain": [
              "[<matplotlib.lines.Line2D at 0x7fcd15a6da20>]"
            ]
          },
          "metadata": {
            "tags": []
          },
          "execution_count": 15
        },
        {
          "output_type": "display_data",
          "data": {
            "image/png": "[encoded data removed]",
            "text/plain": [
              "<Figure size 1152x576 with 1 Axes>"
            ]
          },
          "metadata": {
            "tags": [],
            "needs_background": "light"
          }
        }
      ]
    },
    {
      "cell_type": "code",
      "metadata": {
        "id": "GzFmMTQsOTq0",
        "outputId": "79e29ca4-2797-4a7c-ee1b-7f3d20d323d4",
        "colab": {
          "base_uri": "https://localhost:8080/",
          "height": 33
        }
      },
      "source": [
        "df_test_FD001.Pred_RUL[(df_test_FD001['unit']==94)].min()"
      ],
      "execution_count": 16,
      "outputs": [
        {
          "output_type": "execute_result",
          "data": {
            "text/plain": [
              "42.98607635498047"
            ]
          },
          "metadata": {
            "tags": []
          },
          "execution_count": 16
        }
      ]
    },
    {
      "cell_type": "code",
      "metadata": {
        "id": "HjigJBbBm2mD",
        "outputId": "e59a24c6-7f24-4fec-dfce-6ac2d1668f0d",
        "colab": {
          "base_uri": "https://localhost:8080/",
          "height": 33
        }
      },
      "source": [
        "maxpred = []\n",
        "for i in range(1,101):\n",
        "  maxpred.append(df_test_FD001.Pred_RUL[(df_test_FD001['unit']==i)].min()) \n",
        "\n",
        "len(maxpred)"
      ],
      "execution_count": 17,
      "outputs": [
        {
          "output_type": "execute_result",
          "data": {
            "text/plain": [
              "100"
            ]
          },
          "metadata": {
            "tags": []
          },
          "execution_count": 17
        }
      ]
    },
    {
      "cell_type": "code",
      "metadata": {
        "id": "7gwGIZu3Pdmp"
      },
      "source": [
        "Results = pd.read_csv('/content/gdrive/My Drive/Capstone/RUL_FD001.txt', sep=' ', header=None)\n",
        "Results = Results.dropna(axis=1, how='all')\n",
        "Results.columns = [\"Actual RUL\"]"
      ],
      "execution_count": 18,
      "outputs": []
    },
    {
      "cell_type": "code",
      "metadata": {
        "id": "Dj013Hnr8aEX",
        "outputId": "a0db02c3-d03c-4c5a-eabf-2535a5bf01a3",
        "colab": {
          "base_uri": "https://localhost:8080/",
          "height": 437
        }
      },
      "source": [
        "Results = pd.read_csv('/content/gdrive/My Drive/Capstone/RUL_FD001.txt', sep=' ', header=None)\n",
        "Results = Results.dropna(axis=1, how='all')\n",
        "Results.columns = [\"Actual RUL\"]\n",
        "Results = Results.assign(unit=[1 + i for i in range(len(Results))])[['unit'] + Results.columns.tolist()]\n",
        "Results['Predicted RUL'] = maxpred\n",
        "Results['Difference'] = Results['Actual RUL'] - Results['Predicted RUL']\n",
        "Results.set_index('unit')"
      ],
      "execution_count": 19,
      "outputs": [
        {
          "output_type": "execute_result",
          "data": {
            "text/html": [
              "<div>\n",
              "<style scoped>\n",
              "    .dataframe tbody tr th:only-of-type {\n",
              "        vertical-align: middle;\n",
              "    }\n",
              "\n",
              "    .dataframe tbody tr th {\n",
              "        vertical-align: top;\n",
              "    }\n",
              "\n",
              "    .dataframe thead th {\n",
              "        text-align: right;\n",
              "    }\n",
              "</style>\n",
              "<table border=\"1\" class=\"dataframe\">\n",
              "  <thead>\n",
              "    <tr style=\"text-align: right;\">\n",
              "      <th></th>\n",
              "      <th>Actual RUL</th>\n",
              "      <th>Predicted RUL</th>\n",
              "      <th>Difference</th>\n",
              "    </tr>\n",
              "    <tr>\n",
              "      <th>unit</th>\n",
              "      <th></th>\n",
              "      <th></th>\n",
              "      <th></th>\n",
              "    </tr>\n",
              "  </thead>\n",
              "  <tbody>\n",
              "    <tr>\n",
              "      <th>1</th>\n",
              "      <td>112</td>\n",
              "      <td>165.096008</td>\n",
              "      <td>-53.096008</td>\n",
              "    </tr>\n",
              "    <tr>\n",
              "      <th>2</th>\n",
              "      <td>98</td>\n",
              "      <td>132.488251</td>\n",
              "      <td>-34.488251</td>\n",
              "    </tr>\n",
              "    <tr>\n",
              "      <th>3</th>\n",
              "      <td>69</td>\n",
              "      <td>49.865108</td>\n",
              "      <td>19.134892</td>\n",
              "    </tr>\n",
              "    <tr>\n",
              "      <th>4</th>\n",
              "      <td>82</td>\n",
              "      <td>74.396606</td>\n",
              "      <td>7.603394</td>\n",
              "    </tr>\n",
              "    <tr>\n",
              "      <th>5</th>\n",
              "      <td>91</td>\n",
              "      <td>84.303223</td>\n",
              "      <td>6.696777</td>\n",
              "    </tr>\n",
              "    <tr>\n",
              "      <th>...</th>\n",
              "      <td>...</td>\n",
              "      <td>...</td>\n",
              "      <td>...</td>\n",
              "    </tr>\n",
              "    <tr>\n",
              "      <th>96</th>\n",
              "      <td>137</td>\n",
              "      <td>104.392319</td>\n",
              "      <td>32.607681</td>\n",
              "    </tr>\n",
              "    <tr>\n",
              "      <th>97</th>\n",
              "      <td>82</td>\n",
              "      <td>70.532997</td>\n",
              "      <td>11.467003</td>\n",
              "    </tr>\n",
              "    <tr>\n",
              "      <th>98</th>\n",
              "      <td>59</td>\n",
              "      <td>63.002491</td>\n",
              "      <td>-4.002491</td>\n",
              "    </tr>\n",
              "    <tr>\n",
              "      <th>99</th>\n",
              "      <td>117</td>\n",
              "      <td>111.117271</td>\n",
              "      <td>5.882729</td>\n",
              "    </tr>\n",
              "    <tr>\n",
              "      <th>100</th>\n",
              "      <td>20</td>\n",
              "      <td>17.114201</td>\n",
              "      <td>2.885799</td>\n",
              "    </tr>\n",
              "  </tbody>\n",
              "</table>\n",
              "<p>100 rows × 3 columns</p>\n",
              "</div>"
            ],
            "text/plain": [
              "      Actual RUL  Predicted RUL  Difference\n",
              "unit                                       \n",
              "1            112     165.096008  -53.096008\n",
              "2             98     132.488251  -34.488251\n",
              "3             69      49.865108   19.134892\n",
              "4             82      74.396606    7.603394\n",
              "5             91      84.303223    6.696777\n",
              "...          ...            ...         ...\n",
              "96           137     104.392319   32.607681\n",
              "97            82      70.532997   11.467003\n",
              "98            59      63.002491   -4.002491\n",
              "99           117     111.117271    5.882729\n",
              "100           20      17.114201    2.885799\n",
              "\n",
              "[100 rows x 3 columns]"
            ]
          },
          "metadata": {
            "tags": []
          },
          "execution_count": 19
        }
      ]
    },
    {
      "cell_type": "code",
      "metadata": {
        "id": "4_MXfrdVsGFp",
        "outputId": "95fff533-dbff-48d2-8d23-d241ed118026",
        "colab": {
          "base_uri": "https://localhost:8080/",
          "height": 33
        }
      },
      "source": [
        "# RMSE\n",
        "from sklearn.metrics import mean_squared_error, r2_score\n",
        "from math import sqrt\n",
        "\n",
        "RMSE = sqrt(mean_squared_error(Results['Actual RUL'], Results['Predicted RUL']))\n",
        "print(\"RMSE: \", RMSE)\n"
      ],
      "execution_count": 20,
      "outputs": [
        {
          "output_type": "stream",
          "text": [
            "RMSE:  24.16195152656721\n"
          ],
          "name": "stdout"
        }
      ]
    },
    {
      "cell_type": "code",
      "metadata": {
        "id": "tNXAuBbYLAtU",
        "outputId": "e25b57e0-31fb-4ab6-bd06-f2b114d8718d",
        "colab": {
          "base_uri": "https://localhost:8080/",
          "height": 407
        }
      },
      "source": [
        "df_test_FD001.drop(['Op1','Op2', 'Op2', 'S2', 'S3', 'S4', 'S7', 'S8', 'S9', 'S11', 'S12', 'S13', 'S14', 'S15', 'S17', 'S20', 'S21'], axis=1, inplace=True)\n",
        "df_test_FD001"
      ],
      "execution_count": 22,
      "outputs": [
        {
          "output_type": "execute_result",
          "data": {
            "text/html": [
              "<div>\n",
              "<style scoped>\n",
              "    .dataframe tbody tr th:only-of-type {\n",
              "        vertical-align: middle;\n",
              "    }\n",
              "\n",
              "    .dataframe tbody tr th {\n",
              "        vertical-align: top;\n",
              "    }\n",
              "\n",
              "    .dataframe thead th {\n",
              "        text-align: right;\n",
              "    }\n",
              "</style>\n",
              "<table border=\"1\" class=\"dataframe\">\n",
              "  <thead>\n",
              "    <tr style=\"text-align: right;\">\n",
              "      <th></th>\n",
              "      <th>unit</th>\n",
              "      <th>cycles</th>\n",
              "      <th>Predicted H.I.</th>\n",
              "      <th>MaxPredCycles</th>\n",
              "      <th>Pred_RUL</th>\n",
              "    </tr>\n",
              "  </thead>\n",
              "  <tbody>\n",
              "    <tr>\n",
              "      <th>0</th>\n",
              "      <td>1</td>\n",
              "      <td>1</td>\n",
              "      <td>0.989120</td>\n",
              "      <td>197.840164</td>\n",
              "      <td>195.687576</td>\n",
              "    </tr>\n",
              "    <tr>\n",
              "      <th>1</th>\n",
              "      <td>1</td>\n",
              "      <td>2</td>\n",
              "      <td>0.991680</td>\n",
              "      <td>197.840164</td>\n",
              "      <td>196.194138</td>\n",
              "    </tr>\n",
              "    <tr>\n",
              "      <th>2</th>\n",
              "      <td>1</td>\n",
              "      <td>3</td>\n",
              "      <td>0.988237</td>\n",
              "      <td>197.840164</td>\n",
              "      <td>195.513046</td>\n",
              "    </tr>\n",
              "    <tr>\n",
              "      <th>3</th>\n",
              "      <td>1</td>\n",
              "      <td>4</td>\n",
              "      <td>0.970968</td>\n",
              "      <td>197.840164</td>\n",
              "      <td>192.096497</td>\n",
              "    </tr>\n",
              "    <tr>\n",
              "      <th>4</th>\n",
              "      <td>1</td>\n",
              "      <td>5</td>\n",
              "      <td>0.967548</td>\n",
              "      <td>197.840164</td>\n",
              "      <td>191.419830</td>\n",
              "    </tr>\n",
              "    <tr>\n",
              "      <th>...</th>\n",
              "      <td>...</td>\n",
              "      <td>...</td>\n",
              "      <td>...</td>\n",
              "      <td>...</td>\n",
              "      <td>...</td>\n",
              "    </tr>\n",
              "    <tr>\n",
              "      <th>13091</th>\n",
              "      <td>100</td>\n",
              "      <td>194</td>\n",
              "      <td>0.112954</td>\n",
              "      <td>216.156647</td>\n",
              "      <td>24.415775</td>\n",
              "    </tr>\n",
              "    <tr>\n",
              "      <th>13092</th>\n",
              "      <td>100</td>\n",
              "      <td>195</td>\n",
              "      <td>0.114977</td>\n",
              "      <td>216.156647</td>\n",
              "      <td>24.853134</td>\n",
              "    </tr>\n",
              "    <tr>\n",
              "      <th>13093</th>\n",
              "      <td>100</td>\n",
              "      <td>196</td>\n",
              "      <td>0.117267</td>\n",
              "      <td>216.156647</td>\n",
              "      <td>25.347948</td>\n",
              "    </tr>\n",
              "    <tr>\n",
              "      <th>13094</th>\n",
              "      <td>100</td>\n",
              "      <td>197</td>\n",
              "      <td>0.102948</td>\n",
              "      <td>216.156647</td>\n",
              "      <td>22.252987</td>\n",
              "    </tr>\n",
              "    <tr>\n",
              "      <th>13095</th>\n",
              "      <td>100</td>\n",
              "      <td>198</td>\n",
              "      <td>0.079175</td>\n",
              "      <td>216.156647</td>\n",
              "      <td>17.114201</td>\n",
              "    </tr>\n",
              "  </tbody>\n",
              "</table>\n",
              "<p>13096 rows × 5 columns</p>\n",
              "</div>"
            ],
            "text/plain": [
              "       unit  cycles  Predicted H.I.  MaxPredCycles    Pred_RUL\n",
              "0         1       1        0.989120     197.840164  195.687576\n",
              "1         1       2        0.991680     197.840164  196.194138\n",
              "2         1       3        0.988237     197.840164  195.513046\n",
              "3         1       4        0.970968     197.840164  192.096497\n",
              "4         1       5        0.967548     197.840164  191.419830\n",
              "...     ...     ...             ...            ...         ...\n",
              "13091   100     194        0.112954     216.156647   24.415775\n",
              "13092   100     195        0.114977     216.156647   24.853134\n",
              "13093   100     196        0.117267     216.156647   25.347948\n",
              "13094   100     197        0.102948     216.156647   22.252987\n",
              "13095   100     198        0.079175     216.156647   17.114201\n",
              "\n",
              "[13096 rows x 5 columns]"
            ]
          },
          "metadata": {
            "tags": []
          },
          "execution_count": 22
        }
      ]
    },
    {
      "cell_type": "code",
      "metadata": {
        "id": "B4aGGQ8ZNugC",
        "outputId": "09aee925-f9b1-43b8-a251-38c3d5dd58ee",
        "colab": {
          "base_uri": "https://localhost:8080/",
          "height": 407
        }
      },
      "source": [
        "df_train_FD001.drop(['Op1','Op2', 'Op2', 'S2', 'S3', 'S4', 'S7', 'S8', 'S9', 'S11', 'S12', 'S13', 'S14', 'S15', 'S17', 'S20', 'S21'], axis=1, inplace=True)\n",
        "df_train_FD001"
      ],
      "execution_count": 24,
      "outputs": [
        {
          "output_type": "execute_result",
          "data": {
            "text/html": [
              "<div>\n",
              "<style scoped>\n",
              "    .dataframe tbody tr th:only-of-type {\n",
              "        vertical-align: middle;\n",
              "    }\n",
              "\n",
              "    .dataframe tbody tr th {\n",
              "        vertical-align: top;\n",
              "    }\n",
              "\n",
              "    .dataframe thead th {\n",
              "        text-align: right;\n",
              "    }\n",
              "</style>\n",
              "<table border=\"1\" class=\"dataframe\">\n",
              "  <thead>\n",
              "    <tr style=\"text-align: right;\">\n",
              "      <th></th>\n",
              "      <th>unit</th>\n",
              "      <th>cycles</th>\n",
              "      <th>Total Cycles</th>\n",
              "      <th>RUL</th>\n",
              "      <th>Health Index</th>\n",
              "    </tr>\n",
              "  </thead>\n",
              "  <tbody>\n",
              "    <tr>\n",
              "      <th>0</th>\n",
              "      <td>1</td>\n",
              "      <td>1</td>\n",
              "      <td>192</td>\n",
              "      <td>191</td>\n",
              "      <td>1.000000</td>\n",
              "    </tr>\n",
              "    <tr>\n",
              "      <th>1</th>\n",
              "      <td>1</td>\n",
              "      <td>2</td>\n",
              "      <td>192</td>\n",
              "      <td>190</td>\n",
              "      <td>0.994764</td>\n",
              "    </tr>\n",
              "    <tr>\n",
              "      <th>2</th>\n",
              "      <td>1</td>\n",
              "      <td>3</td>\n",
              "      <td>192</td>\n",
              "      <td>189</td>\n",
              "      <td>0.989529</td>\n",
              "    </tr>\n",
              "    <tr>\n",
              "      <th>3</th>\n",
              "      <td>1</td>\n",
              "      <td>4</td>\n",
              "      <td>192</td>\n",
              "      <td>188</td>\n",
              "      <td>0.984293</td>\n",
              "    </tr>\n",
              "    <tr>\n",
              "      <th>4</th>\n",
              "      <td>1</td>\n",
              "      <td>5</td>\n",
              "      <td>192</td>\n",
              "      <td>187</td>\n",
              "      <td>0.979058</td>\n",
              "    </tr>\n",
              "    <tr>\n",
              "      <th>...</th>\n",
              "      <td>...</td>\n",
              "      <td>...</td>\n",
              "      <td>...</td>\n",
              "      <td>...</td>\n",
              "      <td>...</td>\n",
              "    </tr>\n",
              "    <tr>\n",
              "      <th>20626</th>\n",
              "      <td>100</td>\n",
              "      <td>196</td>\n",
              "      <td>200</td>\n",
              "      <td>4</td>\n",
              "      <td>0.020101</td>\n",
              "    </tr>\n",
              "    <tr>\n",
              "      <th>20627</th>\n",
              "      <td>100</td>\n",
              "      <td>197</td>\n",
              "      <td>200</td>\n",
              "      <td>3</td>\n",
              "      <td>0.015075</td>\n",
              "    </tr>\n",
              "    <tr>\n",
              "      <th>20628</th>\n",
              "      <td>100</td>\n",
              "      <td>198</td>\n",
              "      <td>200</td>\n",
              "      <td>2</td>\n",
              "      <td>0.010050</td>\n",
              "    </tr>\n",
              "    <tr>\n",
              "      <th>20629</th>\n",
              "      <td>100</td>\n",
              "      <td>199</td>\n",
              "      <td>200</td>\n",
              "      <td>1</td>\n",
              "      <td>0.005025</td>\n",
              "    </tr>\n",
              "    <tr>\n",
              "      <th>20630</th>\n",
              "      <td>100</td>\n",
              "      <td>200</td>\n",
              "      <td>200</td>\n",
              "      <td>0</td>\n",
              "      <td>0.000000</td>\n",
              "    </tr>\n",
              "  </tbody>\n",
              "</table>\n",
              "<p>20631 rows × 5 columns</p>\n",
              "</div>"
            ],
            "text/plain": [
              "       unit  cycles  Total Cycles  RUL  Health Index\n",
              "0         1       1           192  191      1.000000\n",
              "1         1       2           192  190      0.994764\n",
              "2         1       3           192  189      0.989529\n",
              "3         1       4           192  188      0.984293\n",
              "4         1       5           192  187      0.979058\n",
              "...     ...     ...           ...  ...           ...\n",
              "20626   100     196           200    4      0.020101\n",
              "20627   100     197           200    3      0.015075\n",
              "20628   100     198           200    2      0.010050\n",
              "20629   100     199           200    1      0.005025\n",
              "20630   100     200           200    0      0.000000\n",
              "\n",
              "[20631 rows x 5 columns]"
            ]
          },
          "metadata": {
            "tags": []
          },
          "execution_count": 24
        }
      ]
    }
  ]
}